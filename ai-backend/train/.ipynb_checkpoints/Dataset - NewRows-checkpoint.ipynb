{
 "cells": [
  {
   "cell_type": "code",
   "execution_count": 1,
   "id": "4d3f9cb5",
   "metadata": {},
   "outputs": [],
   "source": [
    "import pandas as pd\n",
    "from datasets import load_dataset\n",
    "from datasets import Dataset"
   ]
  },
  {
   "cell_type": "code",
   "execution_count": 2,
   "id": "2882b6fc",
   "metadata": {},
   "outputs": [
    {
     "data": {
      "text/html": [
       "<div>\n",
       "<style scoped>\n",
       "    .dataframe tbody tr th:only-of-type {\n",
       "        vertical-align: middle;\n",
       "    }\n",
       "\n",
       "    .dataframe tbody tr th {\n",
       "        vertical-align: top;\n",
       "    }\n",
       "\n",
       "    .dataframe thead th {\n",
       "        text-align: right;\n",
       "    }\n",
       "</style>\n",
       "<table border=\"1\" class=\"dataframe\">\n",
       "  <thead>\n",
       "    <tr style=\"text-align: right;\">\n",
       "      <th></th>\n",
       "      <th>Id</th>\n",
       "      <th>comment</th>\n",
       "      <th>quality</th>\n",
       "      <th>sentiment</th>\n",
       "      <th>positive-attribute</th>\n",
       "      <th>negative-attribute</th>\n",
       "    </tr>\n",
       "  </thead>\n",
       "  <tbody>\n",
       "    <tr>\n",
       "      <th>0</th>\n",
       "      <td>45881</td>\n",
       "      <td>Rand was a good guy, really... he was. But I f...</td>\n",
       "      <td>awful</td>\n",
       "      <td>0</td>\n",
       "      <td>NaN</td>\n",
       "      <td>unfair</td>\n",
       "    </tr>\n",
       "    <tr>\n",
       "      <th>1</th>\n",
       "      <td>45881</td>\n",
       "      <td>He is brilliant in his field, but expects his ...</td>\n",
       "      <td>poor</td>\n",
       "      <td>0</td>\n",
       "      <td>NaN</td>\n",
       "      <td>unfair</td>\n",
       "    </tr>\n",
       "    <tr>\n",
       "      <th>2</th>\n",
       "      <td>45881</td>\n",
       "      <td>He has a major in philosophy which is why all ...</td>\n",
       "      <td>awful</td>\n",
       "      <td>0</td>\n",
       "      <td>NaN</td>\n",
       "      <td>unfair</td>\n",
       "    </tr>\n",
       "    <tr>\n",
       "      <th>3</th>\n",
       "      <td>45881</td>\n",
       "      <td>I thought his class was extremely hard but des...</td>\n",
       "      <td>good</td>\n",
       "      <td>2</td>\n",
       "      <td>inspiring</td>\n",
       "      <td>NaN</td>\n",
       "    </tr>\n",
       "    <tr>\n",
       "      <th>4</th>\n",
       "      <td>45881</td>\n",
       "      <td>I recently just finished taking Comp 110 with ...</td>\n",
       "      <td>poor</td>\n",
       "      <td>0</td>\n",
       "      <td>NaN</td>\n",
       "      <td>unfair</td>\n",
       "    </tr>\n",
       "    <tr>\n",
       "      <th>...</th>\n",
       "      <td>...</td>\n",
       "      <td>...</td>\n",
       "      <td>...</td>\n",
       "      <td>...</td>\n",
       "      <td>...</td>\n",
       "      <td>...</td>\n",
       "    </tr>\n",
       "    <tr>\n",
       "      <th>2271</th>\n",
       "      <td>64144</td>\n",
       "      <td>Such a bad bad class.</td>\n",
       "      <td>poor</td>\n",
       "      <td>0</td>\n",
       "      <td>NaN</td>\n",
       "      <td>boring</td>\n",
       "    </tr>\n",
       "    <tr>\n",
       "      <th>2272</th>\n",
       "      <td>64144</td>\n",
       "      <td>He was a funny guy but a horendous teacher. Al...</td>\n",
       "      <td>poor</td>\n",
       "      <td>0</td>\n",
       "      <td>NaN</td>\n",
       "      <td>disorganized</td>\n",
       "    </tr>\n",
       "    <tr>\n",
       "      <th>2273</th>\n",
       "      <td>64144</td>\n",
       "      <td>Prof Graves is a very interesting man...if you...</td>\n",
       "      <td>average</td>\n",
       "      <td>1</td>\n",
       "      <td>NaN</td>\n",
       "      <td>NaN</td>\n",
       "    </tr>\n",
       "    <tr>\n",
       "      <th>2274</th>\n",
       "      <td>64144</td>\n",
       "      <td>He's really disoriented, but a really cool guy...</td>\n",
       "      <td>average</td>\n",
       "      <td>1</td>\n",
       "      <td>NaN</td>\n",
       "      <td>NaN</td>\n",
       "    </tr>\n",
       "    <tr>\n",
       "      <th>2275</th>\n",
       "      <td>64144</td>\n",
       "      <td>Horrible</td>\n",
       "      <td>average</td>\n",
       "      <td>1</td>\n",
       "      <td>NaN</td>\n",
       "      <td>NaN</td>\n",
       "    </tr>\n",
       "  </tbody>\n",
       "</table>\n",
       "<p>2276 rows × 6 columns</p>\n",
       "</div>"
      ],
      "text/plain": [
       "         Id                                            comment  quality  \\\n",
       "0     45881  Rand was a good guy, really... he was. But I f...    awful   \n",
       "1     45881  He is brilliant in his field, but expects his ...     poor   \n",
       "2     45881  He has a major in philosophy which is why all ...    awful   \n",
       "3     45881  I thought his class was extremely hard but des...     good   \n",
       "4     45881  I recently just finished taking Comp 110 with ...     poor   \n",
       "...     ...                                                ...      ...   \n",
       "2271  64144                              Such a bad bad class.     poor   \n",
       "2272  64144  He was a funny guy but a horendous teacher. Al...     poor   \n",
       "2273  64144  Prof Graves is a very interesting man...if you...  average   \n",
       "2274  64144  He's really disoriented, but a really cool guy...  average   \n",
       "2275  64144                                           Horrible  average   \n",
       "\n",
       "      sentiment positive-attribute negative-attribute  \n",
       "0             0                NaN             unfair  \n",
       "1             0                NaN             unfair  \n",
       "2             0                NaN             unfair  \n",
       "3             2          inspiring                NaN  \n",
       "4             0                NaN             unfair  \n",
       "...         ...                ...                ...  \n",
       "2271          0                NaN             boring  \n",
       "2272          0                NaN       disorganized  \n",
       "2273          1                NaN                NaN  \n",
       "2274          1                NaN                NaN  \n",
       "2275          1                NaN                NaN  \n",
       "\n",
       "[2276 rows x 6 columns]"
      ]
     },
     "execution_count": 2,
     "metadata": {},
     "output_type": "execute_result"
    }
   ],
   "source": [
    "df = pd.read_csv(\"dataset/dataset-checkpoint-1.csv\", encoding='ISO-8859-1', engine='python')\n",
    "df.head(1000000)"
   ]
  },
  {
   "cell_type": "code",
   "execution_count": 3,
   "id": "281e66cc-dc53-481b-b3b5-bb496acf4585",
   "metadata": {},
   "outputs": [],
   "source": [
    "# New synthetic dataset\n",
    "synth_df = pd.DataFrame(columns=[\"comment\",\"sentiment\",\"positive-attribute\",\"negative-attribute\"])"
   ]
  },
  {
   "cell_type": "code",
   "execution_count": 4,
   "id": "fbb2a465-42fa-43d0-9630-4e030f5c3c55",
   "metadata": {},
   "outputs": [
    {
     "name": "stdout",
     "output_type": "stream",
     "text": [
      "Hello World \n",
      "\n"
     ]
    }
   ],
   "source": [
    "test_prompt = (\n",
    "    \"<start_of_turn>user\\n Please say the words 'Hello World' and nothing more. <end_of_turn>\"\n",
    ")\n",
    "\n",
    "import ollama\n",
    "response = ollama.chat(model='gemma2:27b', messages=[\n",
    "  {\n",
    "    'role': 'user',\n",
    "    'content': test_prompt,\n",
    "  },\n",
    "])\n",
    "print(response['message']['content'])\n"
   ]
  },
  {
   "cell_type": "code",
   "execution_count": 5,
   "id": "dd4eb59c-e329-4b08-884e-12564e475924",
   "metadata": {},
   "outputs": [],
   "source": [
    "# Define approved lists of positive and negative attributes\n",
    "positive_attributes = [\n",
    "    \"clear\", \"engaging\", \"knowledgeable\", \"supportive\", \"organized\",\n",
    "    \"approachable\", \"enthusiastic\", \"empathetic\", \"resourceful\", \n",
    "    \"inspiring\", \"reliable\", \"creative\", \"patient\", \"respectful\", \n",
    "    \"motivating\", \"accessible\", \"passionate\", \"unique\", \"helpful\",\n",
    "    \"kind\", \"interactive\", \"understanding\"\n",
    "]\n",
    "\n",
    "negative_attributes = [\n",
    "    \"confusing\", \"unapproachable\", \"disorganized\", \"boring\", \"unfair\",\n",
    "    \"dismissive\", \"inefficient\", \"negative\", \"stubborn\", \"unreliable\", \n",
    "    \"rigid\", \"pessimistic\", \"apathetic\", \"overbearing\", \"inflexible\",\n",
    "    \"unhelpful\", \"judgemental\"\n",
    "]"
   ]
  },
  {
   "cell_type": "code",
   "execution_count": 6,
   "id": "5f546f9d-4dc3-4104-aa38-ed3cb0845619",
   "metadata": {},
   "outputs": [
    {
     "data": {
      "text/plain": [
       "[2, 'positive', 'clear']"
      ]
     },
     "execution_count": 6,
     "metadata": {},
     "output_type": "execute_result"
    }
   ],
   "source": [
    "import random\n",
    "# Prompt generator\n",
    "def generate_data():\n",
    "    sentiment = random.randint(0,2)\n",
    "    sentiment_type = \"neutral\"\n",
    "    attribute = \"average\"\n",
    "    if(sentiment == 0):\n",
    "        sentiment_type = \"negative\"\n",
    "        attribute = negative_attributes[random.randint(0,len(negative_attributes)-1)]\n",
    "    elif(sentiment == 2):\n",
    "        sentiment_type = \"positive\"\n",
    "        attribute = positive_attributes[random.randint(0,len(negative_attributes)-1)]\n",
    "    \n",
    "    return [sentiment,sentiment_type,attribute]\n",
    "\n",
    "generate_data()"
   ]
  },
  {
   "cell_type": "code",
   "execution_count": 7,
   "id": "f2ac8fcc-0324-4564-970e-f3ae3f9313c1",
   "metadata": {},
   "outputs": [
    {
     "data": {
      "text/plain": [
       "{5: \"Steven Rand is a nice person and really interesting to hear him speak. I am always inspired after a lecture. However, never expect to get anything higher than a C. You can think your paper is perfect but, he will tear it apart in seconds. Take a different professor if you don't want to put 9 hours of work into a paper you get an 'average' grade on.\"}"
      ]
     },
     "execution_count": 7,
     "metadata": {},
     "output_type": "execute_result"
    }
   ],
   "source": [
    "def generate_comments(amount_comments, num_rows):\n",
    "    comment_map = {}\n",
    "    for i in range(amount_comments):\n",
    "        comment_id = random.randint(0,num_rows)\n",
    "        if comment_map.get(comment_id) is None:\n",
    "            comment_map[comment_id] = df.loc[comment_id, 'comment']\n",
    "        else:\n",
    "            i-=1\n",
    "    return comment_map\n",
    "generate_comments(1,10)"
   ]
  },
  {
   "cell_type": "code",
   "execution_count": null,
   "id": "98034c25-5e2d-4c8f-a03f-e61d8341891b",
   "metadata": {},
   "outputs": [
    {
     "name": "stdout",
     "output_type": "stream",
     "text": [
      "You can tell he's an expert in his field, but asking for help outside of class is impossible. I tried emailing him with questions a few times, but never received a response. It felt like there was always a barrier between him and the students.  \n",
      " attribute: unapproachable, sentiment: negative, count: 1/2000\n",
      "Professor Miller's enthusiasm for this subject is truly contagious! Every lecture felt like a fascinating journey of discovery, and he always went the extra mile to connect the material to real-world examples.  His energy made even complex concepts engaging and easy to grasp.  \n",
      " attribute: passionate, sentiment: positive, count: 2/2000\n",
      "Professor Smith was always willing to answer my questions, whether it was during class, after class, or even through email. They made it clear that they wanted us to succeed and were happy to provide extra help whenever we needed it.  \n",
      " attribute: accessible, sentiment: positive, count: 3/2000\n",
      "Professor Smith's grading seemed arbitrary.  While I participated actively and completed all assignments, my grade didn't reflect the effort I put in. The feedback on assignments was vague and unhelpful, making it difficult to improve.  I felt like there was a disconnect between what was expected and how grades were assigned.   \n",
      "\n",
      "\n",
      " attribute: unfair, sentiment: negative, count: 4/2000\n",
      "Professor Smith is knowledgeable about the subject matter and presents it in a clear and concise way. The lectures can sometimes feel a bit dry, but they cover all the necessary material.  The grading was fair, and Professor Smith was always available during office hours to answer questions. \n",
      "\n",
      "\n",
      " attribute: average, sentiment: neutral, count: 5/2000\n",
      "The lectures were clear and followed the textbook pretty closely.  The exams reflected the material covered in class, but some questions felt a little tricky. The professor was available during office hours if you needed extra help.  \n",
      "\n",
      "\n",
      "\n",
      " attribute: average, sentiment: neutral, count: 6/2000\n",
      "This professor seemed to take pleasure in making students feel inadequate.  Every question was met with a sarcastic remark, and they constantly emphasized how little we knew compared to them. It created a really hostile learning environment where no one felt comfortable asking for help.  Avoid this class if you can. \n",
      "\n",
      "\n",
      " attribute: negative, sentiment: negative, count: 7/2000\n",
      "Getting help in this class felt impossible.  He never responded to emails and during office hours, he seemed more interested in his own research than actually helping students understand the material.  Good luck if you need any clarification on the assignments. \n",
      "\n",
      "\n",
      " attribute: unapproachable, sentiment: negative, count: 8/2000\n",
      "Good luck figuring out what's going on in this class.  The syllabus changed three times, and assignments were constantly being added or removed at the last minute.  It felt impossible to stay on top of things. \n",
      " attribute: disorganized, sentiment: negative, count: 9/2000\n"
     ]
    }
   ],
   "source": [
    "checkpoint = 0\n",
    "for i in range(2000):\n",
    "    full_prompt = f\"<start_of_turn>user\\n Here are a few examples of reviews students left for professors: \\n \"\n",
    "    comments = generate_comments(12,2275)\n",
    "    for key,value in comments.items():\n",
    "        full_prompt += f\"\\n '{value}' \\n\"\n",
    "\n",
    "    data = generate_data()\n",
    "    sentiment = data[0]\n",
    "    sentiment_type = data[1]\n",
    "    attribute = data[2]\n",
    "    \n",
    "    full_prompt += f\"\\n You are playing the role of a student who is writing a review for their professor at the end of the semester. Please write a {sentiment_type} review for a professor who is {attribute}. Please refrain from using the word '{attribute}' in the review. Please output just this review and nothing else. Do not be to verbose, refrain from information that does not pertain to describing the professor as {attribute} in particular. Refrain from using generic words like 'overall' and try to follow the format of the provided examples as closely as possible.\" + \" <end_of_turn>\"\n",
    "    response = ollama.chat(model='gemma2:27b', messages=[\n",
    "      {\n",
    "        'role': 'user',\n",
    "        'content': full_prompt,\n",
    "        'temperature':0.5\n",
    "      },\n",
    "    ])\n",
    "    \n",
    "    if(sentiment == 0):\n",
    "        synth_df.loc[len(synth_df)] = [response['message']['content'], sentiment, None, attribute]\n",
    "    elif(sentiment == 2):\n",
    "        synth_df.loc[len(synth_df)] = [response['message']['content'], sentiment, attribute, None]\n",
    "    else:\n",
    "        synth_df.loc[len(synth_df)] = [response['message']['content'], sentiment, None, None]\n",
    "    \n",
    "    print(f\"\\n{response['message']['content']+attribute}: {attribute}, sentiment: {sentiment_type}, count: {i+1}/2000 \\n\")\n",
    "    if(i % 200 == 0):\n",
    "        synth_df.to_csv(f'dataset/dataset2-checkpoints/dataset2-checkpoint-{checkpoint}.csv', index=False)\n",
    "        checkpoint+=1\n",
    "    "
   ]
  },
  {
   "cell_type": "code",
   "execution_count": null,
   "id": "75ae7c82-1b77-427f-87f4-91d5b57ab249",
   "metadata": {},
   "outputs": [],
   "source": [
    "synth_df.head(50)"
   ]
  },
  {
   "cell_type": "code",
   "execution_count": null,
   "id": "addbb8d4-16f5-492b-a343-e54c4072ab6d",
   "metadata": {},
   "outputs": [],
   "source": [
    "synth_df.to_csv('dataset/dataset-checkpoint-2-final.csv', index=False)"
   ]
  },
  {
   "cell_type": "code",
   "execution_count": null,
   "id": "8aed1431-cb8d-4291-b176-cadb9252b364",
   "metadata": {},
   "outputs": [],
   "source": []
  }
 ],
 "metadata": {
  "kernelspec": {
   "display_name": "Python llm-env",
   "language": "python",
   "name": "env"
  },
  "language_info": {
   "codemirror_mode": {
    "name": "ipython",
    "version": 3
   },
   "file_extension": ".py",
   "mimetype": "text/x-python",
   "name": "python",
   "nbconvert_exporter": "python",
   "pygments_lexer": "ipython3",
   "version": "3.12.7"
  }
 },
 "nbformat": 4,
 "nbformat_minor": 5
}
