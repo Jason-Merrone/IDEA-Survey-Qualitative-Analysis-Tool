{
 "cells": [
  {
   "cell_type": "code",
   "execution_count": 1,
   "id": "971a1e75-1bb5-45d1-8954-a5371900df25",
   "metadata": {},
   "outputs": [],
   "source": [
    "import torch\n",
    "from transformers import AutoModelForCausalLM, AutoTokenizer, BitsAndBytesConfig\n",
    "from peft import PeftModel\n",
    "\n",
    "import torch.nn.functional as F"
   ]
  },
  {
   "cell_type": "code",
   "execution_count": 2,
   "id": "db45dbd7-d81b-4dcb-8eac-4b655905e155",
   "metadata": {},
   "outputs": [],
   "source": [
    "TOKEN = \"{Enter token here}\"\n",
    "# Configuration\n",
    "device = \"cuda\" if torch.cuda.is_available() else \"cpu\""
   ]
  },
  {
   "cell_type": "code",
   "execution_count": 3,
   "id": "abea6034-1802-4d3a-957d-e3fcd6349495",
   "metadata": {},
   "outputs": [
    {
     "name": "stdout",
     "output_type": "stream",
     "text": [
      "Loading base model and tokenizer...\n"
     ]
    },
    {
     "name": "stderr",
     "output_type": "stream",
     "text": [
      "Unused kwargs: ['lm_int8_enable_fp32_cpu_offload']. These kwargs are not used in <class 'transformers.utils.quantization_config.BitsAndBytesConfig'>.\n"
     ]
    },
    {
     "data": {
      "application/vnd.jupyter.widget-view+json": {
       "model_id": "719e870b59064ec986f121370ebc560c",
       "version_major": 2,
       "version_minor": 0
      },
      "text/plain": [
       "Loading checkpoint shards:   0%|          | 0/2 [00:00<?, ?it/s]"
      ]
     },
     "metadata": {},
     "output_type": "display_data"
    }
   ],
   "source": [
    "# Load the base model and tokenizer\n",
    "print(\"Loading base model and tokenizer...\")\n",
    "tokenizer = AutoTokenizer.from_pretrained(\"meta-llama/Llama-3.2-3B-instruct\", padding_side=\"right\", token=TOKEN,)\n",
    "if tokenizer.pad_token is None:\n",
    "    tokenizer.pad_token = tokenizer.eos_token\n",
    "\n",
    "bnb_config = BitsAndBytesConfig(\n",
    "    load_in_8bit=True,\n",
    "    lm_int8_enable_fp32_cpu_offload=True,\n",
    "    llm_int8_skip_modules=None\n",
    ")\n",
    "model = AutoModelForCausalLM.from_pretrained(\n",
    "    \"meta-llama/Llama-3.2-3B-instruct\",\n",
    "    quantization_config=bnb_config,\n",
    "    token=TOKEN,\n",
    "    device_map='auto',\n",
    ")"
   ]
  },
  {
   "cell_type": "code",
   "execution_count": 4,
   "id": "a59d8339-f772-4d33-8f2d-de7e6a6e22a9",
   "metadata": {},
   "outputs": [
    {
     "name": "stdout",
     "output_type": "stream",
     "text": [
      "Probability of ' Hi': 0.0027\n",
      "Probability of ' Hello': 0.0014\n"
     ]
    }
   ],
   "source": [
    "# Example input\n",
    "input_text = \"How are you?\"\n",
    "input_ids = tokenizer(input_text, return_tensors=\"pt\").input_ids\n",
    "\n",
    "# Target tokens\n",
    "target_tokens = [\" Hi\", \" Hello\"]\n",
    "token_ids = tokenizer(target_tokens, add_special_tokens=False).input_ids\n",
    "token_ids = [item for sublist in token_ids for item in sublist]  # Flatten\n",
    "\n",
    "# Run the model\n",
    "outputs = model(input_ids)\n",
    "logits = outputs.logits  # Shape: (1, sequence_length, vocab_size)\n",
    "last_logits = logits[:, -1, :]  # Focus on the last token's logits\n",
    "\n",
    "# Compute probabilities\n",
    "probabilities = F.softmax(last_logits, dim=-1)\n",
    "\n",
    "# Get probabilities of the target tokens\n",
    "token_probabilities = probabilities[:, token_ids]\n",
    "\n",
    "# Print results\n",
    "for token, prob in zip(target_tokens, token_probabilities[0].tolist()):\n",
    "    print(f\"Probability of '{token}': {prob:.4f}\")"
   ]
  },
  {
   "cell_type": "code",
   "execution_count": null,
   "id": "bc8f7a74-63a5-460d-83b5-7a908997a71e",
   "metadata": {},
   "outputs": [],
   "source": []
  }
 ],
 "metadata": {
  "kernelspec": {
   "display_name": "Python train",
   "language": "python",
   "name": "train_env"
  },
  "language_info": {
   "codemirror_mode": {
    "name": "ipython",
    "version": 3
   },
   "file_extension": ".py",
   "mimetype": "text/x-python",
   "name": "python",
   "nbconvert_exporter": "python",
   "pygments_lexer": "ipython3",
   "version": "3.12.3"
  }
 },
 "nbformat": 4,
 "nbformat_minor": 5
}
