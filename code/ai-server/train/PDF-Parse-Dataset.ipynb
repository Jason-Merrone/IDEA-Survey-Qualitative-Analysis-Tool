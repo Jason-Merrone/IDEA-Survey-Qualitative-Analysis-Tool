{
 "cells": [
  {
   "cell_type": "code",
   "execution_count": 1,
   "id": "ccb2eebc-e62d-4049-b6b4-1650d06aae2f",
   "metadata": {},
   "outputs": [],
   "source": [
    "import pandas as pd"
   ]
  },
  {
   "cell_type": "code",
   "execution_count": 2,
   "id": "05396a46-fa38-4ee0-b21c-64af8211074e",
   "metadata": {},
   "outputs": [],
   "source": [
    "df1 = pd.read_csv('dataset/dataset-checkpoint-1-processed.csv')\n",
    "df2 = pd.read_csv('dataset/dataset-checkpoint-2-processed.csv')"
   ]
  },
  {
   "cell_type": "code",
   "execution_count": 3,
   "id": "2b1ba69c-1106-4921-8175-e624284ea158",
   "metadata": {},
   "outputs": [],
   "source": [
    "df = pd.concat([df1, df2])\n",
    "df = df.sample(frac=1, random_state=42)"
   ]
  },
  {
   "cell_type": "code",
   "execution_count": 4,
   "id": "a2b20975-244b-45b8-8532-4a273bbed17e",
   "metadata": {},
   "outputs": [
    {
     "data": {
      "text/html": [
       "<div>\n",
       "<style scoped>\n",
       "    .dataframe tbody tr th:only-of-type {\n",
       "        vertical-align: middle;\n",
       "    }\n",
       "\n",
       "    .dataframe tbody tr th {\n",
       "        vertical-align: top;\n",
       "    }\n",
       "\n",
       "    .dataframe thead th {\n",
       "        text-align: right;\n",
       "    }\n",
       "</style>\n",
       "<table border=\"1\" class=\"dataframe\">\n",
       "  <thead>\n",
       "    <tr style=\"text-align: right;\">\n",
       "      <th></th>\n",
       "      <th>Id</th>\n",
       "      <th>comment</th>\n",
       "      <th>quality</th>\n",
       "      <th>sentiment</th>\n",
       "      <th>positive-attribute</th>\n",
       "      <th>negative-attribute</th>\n",
       "      <th>processed_comments</th>\n",
       "    </tr>\n",
       "  </thead>\n",
       "  <tbody>\n",
       "    <tr>\n",
       "      <th>544</th>\n",
       "      <td>103621.0</td>\n",
       "      <td>Avoid this guy, he's a fool. All these people ...</td>\n",
       "      <td>awful</td>\n",
       "      <td>0</td>\n",
       "      <td>NaN</td>\n",
       "      <td>unhelpful</td>\n",
       "      <td>Avoid this guy, he's a fool. All these people ...</td>\n",
       "    </tr>\n",
       "    <tr>\n",
       "      <th>410</th>\n",
       "      <td>277557.0</td>\n",
       "      <td>This is the best class at UVSC. Don't listen t...</td>\n",
       "      <td>awesome</td>\n",
       "      <td>1</td>\n",
       "      <td>clear</td>\n",
       "      <td>NaN</td>\n",
       "      <td>This is the best class at UVSC. Don't listen t...</td>\n",
       "    </tr>\n",
       "    <tr>\n",
       "      <th>351</th>\n",
       "      <td>NaN</td>\n",
       "      <td>Professor Lee breaks down complex topics into ...</td>\n",
       "      <td>NaN</td>\n",
       "      <td>1</td>\n",
       "      <td>clear</td>\n",
       "      <td>NaN</td>\n",
       "      <td>Professor Elliot breaks down complex topics in...</td>\n",
       "    </tr>\n",
       "    <tr>\n",
       "      <th>1281</th>\n",
       "      <td>304408.0</td>\n",
       "      <td>DO NOT TAKE!!! She is a very knowledgeable pro...</td>\n",
       "      <td>average</td>\n",
       "      <td>1</td>\n",
       "      <td>knowledgeable</td>\n",
       "      <td>NaN</td>\n",
       "      <td>DO NOT TAKE!!! She is a very knowledgeable pro...</td>\n",
       "    </tr>\n",
       "    <tr>\n",
       "      <th>598</th>\n",
       "      <td>1307460.0</td>\n",
       "      <td>Dr. Parker seems as though he wants you to lea...</td>\n",
       "      <td>poor</td>\n",
       "      <td>0</td>\n",
       "      <td>NaN</td>\n",
       "      <td>unfair</td>\n",
       "      <td>Dr. Harper seems as though he wants you to lea...</td>\n",
       "    </tr>\n",
       "    <tr>\n",
       "      <th>2196</th>\n",
       "      <td>142825.0</td>\n",
       "      <td>Patti is very knowladgeble and a great profess...</td>\n",
       "      <td>good</td>\n",
       "      <td>1</td>\n",
       "      <td>engaging</td>\n",
       "      <td>NaN</td>\n",
       "      <td>Dallas is very knowladgeble and a great profes...</td>\n",
       "    </tr>\n",
       "    <tr>\n",
       "      <th>1884</th>\n",
       "      <td>NaN</td>\n",
       "      <td>This class felt like it dragged on forever.  L...</td>\n",
       "      <td>NaN</td>\n",
       "      <td>0</td>\n",
       "      <td>NaN</td>\n",
       "      <td>boring</td>\n",
       "      <td>This class felt like it dragged on forever. Le...</td>\n",
       "    </tr>\n",
       "    <tr>\n",
       "      <th>1275</th>\n",
       "      <td>NaN</td>\n",
       "      <td>This class felt like a constant uphill battle....</td>\n",
       "      <td>NaN</td>\n",
       "      <td>0</td>\n",
       "      <td>NaN</td>\n",
       "      <td>unfair</td>\n",
       "      <td>This class felt like a constant uphill battle....</td>\n",
       "    </tr>\n",
       "    <tr>\n",
       "      <th>1864</th>\n",
       "      <td>NaN</td>\n",
       "      <td>This class was really tough to get through. Th...</td>\n",
       "      <td>NaN</td>\n",
       "      <td>0</td>\n",
       "      <td>NaN</td>\n",
       "      <td>boring</td>\n",
       "      <td>This class was really tough to get through. Th...</td>\n",
       "    </tr>\n",
       "    <tr>\n",
       "      <th>108</th>\n",
       "      <td>NaN</td>\n",
       "      <td>This class felt incredibly long.  The lectures...</td>\n",
       "      <td>NaN</td>\n",
       "      <td>0</td>\n",
       "      <td>NaN</td>\n",
       "      <td>boring</td>\n",
       "      <td>This class felt incredibly long. The lectures ...</td>\n",
       "    </tr>\n",
       "  </tbody>\n",
       "</table>\n",
       "</div>"
      ],
      "text/plain": [
       "             Id                                            comment  quality  \\\n",
       "544    103621.0  Avoid this guy, he's a fool. All these people ...    awful   \n",
       "410    277557.0  This is the best class at UVSC. Don't listen t...  awesome   \n",
       "351         NaN  Professor Lee breaks down complex topics into ...      NaN   \n",
       "1281   304408.0  DO NOT TAKE!!! She is a very knowledgeable pro...  average   \n",
       "598   1307460.0  Dr. Parker seems as though he wants you to lea...     poor   \n",
       "2196   142825.0  Patti is very knowladgeble and a great profess...     good   \n",
       "1884        NaN  This class felt like it dragged on forever.  L...      NaN   \n",
       "1275        NaN  This class felt like a constant uphill battle....      NaN   \n",
       "1864        NaN  This class was really tough to get through. Th...      NaN   \n",
       "108         NaN  This class felt incredibly long.  The lectures...      NaN   \n",
       "\n",
       "      sentiment positive-attribute negative-attribute  \\\n",
       "544           0                NaN          unhelpful   \n",
       "410           1              clear                NaN   \n",
       "351           1              clear                NaN   \n",
       "1281          1      knowledgeable                NaN   \n",
       "598           0                NaN             unfair   \n",
       "2196          1           engaging                NaN   \n",
       "1884          0                NaN             boring   \n",
       "1275          0                NaN             unfair   \n",
       "1864          0                NaN             boring   \n",
       "108           0                NaN             boring   \n",
       "\n",
       "                                     processed_comments  \n",
       "544   Avoid this guy, he's a fool. All these people ...  \n",
       "410   This is the best class at UVSC. Don't listen t...  \n",
       "351   Professor Elliot breaks down complex topics in...  \n",
       "1281  DO NOT TAKE!!! She is a very knowledgeable pro...  \n",
       "598   Dr. Harper seems as though he wants you to lea...  \n",
       "2196  Dallas is very knowladgeble and a great profes...  \n",
       "1884  This class felt like it dragged on forever. Le...  \n",
       "1275  This class felt like a constant uphill battle....  \n",
       "1864  This class was really tough to get through. Th...  \n",
       "108   This class felt incredibly long. The lectures ...  "
      ]
     },
     "execution_count": 4,
     "metadata": {},
     "output_type": "execute_result"
    }
   ],
   "source": [
    "df.head(10)"
   ]
  },
  {
   "cell_type": "code",
   "execution_count": 5,
   "id": "3b4306fe-5d34-48a0-a02c-147f633cb2f6",
   "metadata": {},
   "outputs": [],
   "source": [
    "def make_row(inputs):\n",
    "    input_string = ''\n",
    "    output_string = ''\n",
    "    for input in inputs:\n",
    "        input_string += input + ' '\n",
    "        output_string += f\"|<startofcomment>| {input} |<endofcomment>| \"\n",
    "    return [input_string,output_string]"
   ]
  },
  {
   "cell_type": "code",
   "execution_count": 6,
   "id": "6daa729e-1aa8-4070-af9d-6b67c06a4c5a",
   "metadata": {},
   "outputs": [
    {
     "data": {
      "text/plain": [
       "'Trying to figure out what was going on in this class felt like solving a puzzle every single day. You never knew what material would be covered or what was going to be on the tests. I spent way more time trying to decipher his notes and figure out what he actually wanted us to learn than I did studying the subject matter itself.'"
      ]
     },
     "execution_count": 6,
     "metadata": {},
     "output_type": "execute_result"
    }
   ],
   "source": [
    "def get_list_of_comments(ds, num_comments):\n",
    "    list_of_comments = []\n",
    "    for i in range(num_comments):\n",
    "        list_of_comments.append(ds.sample(1)['processed_comments'].iloc[0])\n",
    "    return list_of_comments\n",
    "\n",
    "comment = get_list_of_comments(df, 1)\n",
    "comment[0]"
   ]
  },
  {
   "cell_type": "code",
   "execution_count": 7,
   "id": "9ae9a2ff-5e1c-4107-84d4-ed50962a00a5",
   "metadata": {},
   "outputs": [],
   "source": [
    "import random\n",
    "df_new = pd.DataFrame({'raw-comments': [], 'processed-comments': []})\n",
    "for i in range(2500):\n",
    "    comments = get_list_of_comments(df,random.randint(0,27))\n",
    "    row_list = make_row(comments)\n",
    "    df_new.loc[len(df_new)] = {'raw-comments':row_list[0],'processed-comments':row_list[1]}"
   ]
  },
  {
   "cell_type": "code",
   "execution_count": 8,
   "id": "077a77b0-9ad4-49d2-8a66-14bb10814978",
   "metadata": {},
   "outputs": [
    {
     "data": {
      "text/plain": [
       "\"This class was incredibly difficult to follow. Professor Sidney jumps around between topics a lot, and it's hard to keep up with where we are in the material. I found myself constantly lost and having to teach myself everything from the textbook. Doesn't care if students are successful, only wants to show everybody how smart he is. Class was a waste of time, and tests had trick questions so even if you know the material you have to know how he thinks to get correct answers. Bad experience, he is giving UVU a bad rep. This instructor is not teaching to help the students succeed, bad instruct This class felt like it dragged on forever. The lectures were incredibly monotone and it was hard to stay focused, no matter how much coffee I drank. I found myself constantly checking the clock and wishing for the class to end. Ashton is a cool guy, and makes his class as easy as possible. He tells you specifically what will be on his tests, so if you aren't getting an A, it is your own fault. He Hated me .... never taught us how to write This class felt incredibly chaotic. It was hard to tell what topics were actually important, and lectures often jumped around without a clear connection. I spent a lot of time trying to piece together what information would be on exams. Good luck! BEST PSYCH TEACHER EVER! You must take his class! It's super easy and he never assigns homework! It also means you really gotta study and at least skim through the assigned chapters. This class was a nightmare! Lectures were all over the place, he frequently jumped between topics without warning, and we rarely knew what material would be covered on exams. He seemed to forget things we had already gone over in class, so it felt like we were constantly backtracking. Getting a good grade in this class felt impossible. This professor clearly knows their stuff! Every lecture felt like a fascinating deep dive into the material. They were able to explain complex concepts in a way that was easy to understand, and they always had insightful answers to our questions. This professor seems to have a different grading scale than everyone else. I studied hard for this class and still ended up with a lower grade than I deserved, even though I understood the material. It felt like no matter what I did, it wasn't enough to impress them. This professor truly cares about the subject matter and wants everyone to understand it. Their enthusiasm is contagious, making even complex topics interesting. They go above and beyond to answer questions and make sure everyone is on the same page. Terrible. Doesn't provide any help outside of class. Requires you to already know the information and do the homework before he teaches it to you. Completely useless as a professor. Professor Logan constantly shifts the goalposts. The syllabus outlines clear expectations for assignments, but then he introduces new requirements or changes the grading rubric mid-semester. It feels impossible to know what he truly wants and how to succeed in his class. I put a lot of effort into my work, but it never seems to be enough. Professor Hunter was fantastic! He broke down complex topics into manageable chunks, making it easy to grasp even the most challenging concepts. His lectures were well-organized and followed a logical progression, which really helped me understand the material. I never felt lost in class and always left feeling like I had learned something new. Jordan is incredibly smart and interesting, but he makes even his most intelligent students feel stupid sometimes. It's really hard to process what he wants from you, now matter how hard you work. Lectures felt like wandering through a maze blindfolded. It was impossible to follow his train of thought, and no matter how hard I tried to take notes, they ended up a jumbled mess. Trying to figure out what he actually wanted us to know for the exams felt like solving a cryptic crossword puzzle. This class felt impossible to follow. Lectures jumped between topics without clear connections, and the material presented never seemed to gel into a coherent understanding. Even with dedicated studying, I constantly felt lost and unsure what was actually important to learn. The WORST teacher EVER!!! He looks like shrek and his lectures are completely irrelevant to what he puts on the tests! but he can give some good advice.. on stuff that has nothing to do with econ I ranked in the top 2% of the class. Only like 5 people got higher grades than me. I studied a lot, read each chapter, did all homeworks and homework problems and still it was difficult. Hardest class ever taken so far in my collegiate career. i recommend taking this class If you hate Obama because you have to write essays about how bad Democrats R Funny, interesting, and helpful! Definitely recommend Dr. White! He gets to know his students (which is amazing that he knows so many in such a large lecture) and enjoys what he does! Professor Payton is fantastic! He explains everything so thoroughly and breaks down complex concepts into manageable pieces. I always left his lectures feeling like I actually understood the material. His passion for the subject is contagious, and he makes learning fun. Lectures jump around a lot, making it hard to follow the main points. It feels like we cover a mile wide but an inch deep. Even asking questions in class doesn't always clear things up - I often leave feeling more lost than when I started. This class felt like it dragged on forever. Every lecture sounded the same, and it was hard to stay focused. I found myself zoning out a lot and having to reread the textbook constantly to understand the material. Professor Justice is amazing! Everything was always laid out so logically, it was easy to understand what he expected and how everything fit together. Definitely recommend taking a class with him! He's hilarious. If you show up to class and read the chapters you should be fine. Do the textbooks multiple choice tests online because he gets his test questions from the publisher. Recitations were NOT helpful...don't go to them if you keep up with the readings and class. super awesome prof, just be sure to read the textbook. talks about relevant current events which helps a lot \""
      ]
     },
     "execution_count": 8,
     "metadata": {},
     "output_type": "execute_result"
    }
   ],
   "source": [
    "df_new.iloc[0]['raw-comments']"
   ]
  },
  {
   "cell_type": "code",
   "execution_count": 9,
   "id": "8b980af8-66fe-43a5-a943-85c9730946dc",
   "metadata": {},
   "outputs": [
    {
     "data": {
      "text/plain": [
       "\"|<startofcomment>| This class was incredibly difficult to follow. Professor Sidney jumps around between topics a lot, and it's hard to keep up with where we are in the material. I found myself constantly lost and having to teach myself everything from the textbook. |<endofcomment>| |<startofcomment>| Doesn't care if students are successful, only wants to show everybody how smart he is. Class was a waste of time, and tests had trick questions so even if you know the material you have to know how he thinks to get correct answers. Bad experience, he is giving UVU a bad rep. This instructor is not teaching to help the students succeed, bad instruct |<endofcomment>| |<startofcomment>| This class felt like it dragged on forever. The lectures were incredibly monotone and it was hard to stay focused, no matter how much coffee I drank. I found myself constantly checking the clock and wishing for the class to end. |<endofcomment>| |<startofcomment>| Ashton is a cool guy, and makes his class as easy as possible. He tells you specifically what will be on his tests, so if you aren't getting an A, it is your own fault. |<endofcomment>| |<startofcomment>| He Hated me .... never taught us how to write |<endofcomment>| |<startofcomment>| This class felt incredibly chaotic. It was hard to tell what topics were actually important, and lectures often jumped around without a clear connection. I spent a lot of time trying to piece together what information would be on exams. Good luck! |<endofcomment>| |<startofcomment>| BEST PSYCH TEACHER EVER! You must take his class! It's super easy and he never assigns homework! It also means you really gotta study and at least skim through the assigned chapters. |<endofcomment>| |<startofcomment>| This class was a nightmare! Lectures were all over the place, he frequently jumped between topics without warning, and we rarely knew what material would be covered on exams. He seemed to forget things we had already gone over in class, so it felt like we were constantly backtracking. Getting a good grade in this class felt impossible. |<endofcomment>| |<startofcomment>| This professor clearly knows their stuff! Every lecture felt like a fascinating deep dive into the material. They were able to explain complex concepts in a way that was easy to understand, and they always had insightful answers to our questions. |<endofcomment>| |<startofcomment>| This professor seems to have a different grading scale than everyone else. I studied hard for this class and still ended up with a lower grade than I deserved, even though I understood the material. It felt like no matter what I did, it wasn't enough to impress them. |<endofcomment>| |<startofcomment>| This professor truly cares about the subject matter and wants everyone to understand it. Their enthusiasm is contagious, making even complex topics interesting. They go above and beyond to answer questions and make sure everyone is on the same page. |<endofcomment>| |<startofcomment>| Terrible. Doesn't provide any help outside of class. Requires you to already know the information and do the homework before he teaches it to you. Completely useless as a professor. |<endofcomment>| |<startofcomment>| Professor Logan constantly shifts the goalposts. The syllabus outlines clear expectations for assignments, but then he introduces new requirements or changes the grading rubric mid-semester. It feels impossible to know what he truly wants and how to succeed in his class. I put a lot of effort into my work, but it never seems to be enough. |<endofcomment>| |<startofcomment>| Professor Hunter was fantastic! He broke down complex topics into manageable chunks, making it easy to grasp even the most challenging concepts. His lectures were well-organized and followed a logical progression, which really helped me understand the material. I never felt lost in class and always left feeling like I had learned something new. |<endofcomment>| |<startofcomment>| Jordan is incredibly smart and interesting, but he makes even his most intelligent students feel stupid sometimes. It's really hard to process what he wants from you, now matter how hard you work. |<endofcomment>| |<startofcomment>| Lectures felt like wandering through a maze blindfolded. It was impossible to follow his train of thought, and no matter how hard I tried to take notes, they ended up a jumbled mess. Trying to figure out what he actually wanted us to know for the exams felt like solving a cryptic crossword puzzle. |<endofcomment>| |<startofcomment>| This class felt impossible to follow. Lectures jumped between topics without clear connections, and the material presented never seemed to gel into a coherent understanding. Even with dedicated studying, I constantly felt lost and unsure what was actually important to learn. |<endofcomment>| |<startofcomment>| The WORST teacher EVER!!! He looks like shrek and his lectures are completely irrelevant to what he puts on the tests! but he can give some good advice.. on stuff that has nothing to do with econ |<endofcomment>| |<startofcomment>| I ranked in the top 2% of the class. Only like 5 people got higher grades than me. I studied a lot, read each chapter, did all homeworks and homework problems and still it was difficult. Hardest class ever taken so far in my collegiate career. i recommend taking this class If you hate Obama because you have to write essays about how bad Democrats R |<endofcomment>| |<startofcomment>| Funny, interesting, and helpful! Definitely recommend Dr. White! He gets to know his students (which is amazing that he knows so many in such a large lecture) and enjoys what he does! |<endofcomment>| |<startofcomment>| Professor Payton is fantastic! He explains everything so thoroughly and breaks down complex concepts into manageable pieces. I always left his lectures feeling like I actually understood the material. His passion for the subject is contagious, and he makes learning fun. |<endofcomment>| |<startofcomment>| Lectures jump around a lot, making it hard to follow the main points. It feels like we cover a mile wide but an inch deep. Even asking questions in class doesn't always clear things up - I often leave feeling more lost than when I started. |<endofcomment>| |<startofcomment>| This class felt like it dragged on forever. Every lecture sounded the same, and it was hard to stay focused. I found myself zoning out a lot and having to reread the textbook constantly to understand the material. |<endofcomment>| |<startofcomment>| Professor Justice is amazing! Everything was always laid out so logically, it was easy to understand what he expected and how everything fit together. Definitely recommend taking a class with him! |<endofcomment>| |<startofcomment>| He's hilarious. If you show up to class and read the chapters you should be fine. Do the textbooks multiple choice tests online because he gets his test questions from the publisher. Recitations were NOT helpful...don't go to them if you keep up with the readings and class. |<endofcomment>| |<startofcomment>| super awesome prof, just be sure to read the textbook. talks about relevant current events which helps a lot |<endofcomment>| \""
      ]
     },
     "execution_count": 9,
     "metadata": {},
     "output_type": "execute_result"
    }
   ],
   "source": [
    "df_new.iloc[0]['processed-comments']"
   ]
  },
  {
   "cell_type": "code",
   "execution_count": 10,
   "id": "ce60322d-7089-48cc-beb1-44b71fca3086",
   "metadata": {},
   "outputs": [],
   "source": [
    "df_new.to_csv('dataset/pdf-parse-dataset.csv', index=False)"
   ]
  },
  {
   "cell_type": "code",
   "execution_count": null,
   "id": "decc78d0-1530-4da8-a4f1-f4453dc091e4",
   "metadata": {},
   "outputs": [],
   "source": []
  }
 ],
 "metadata": {
  "kernelspec": {
   "display_name": "Python 3 (ipykernel)",
   "language": "python",
   "name": "python3"
  },
  "language_info": {
   "codemirror_mode": {
    "name": "ipython",
    "version": 3
   },
   "file_extension": ".py",
   "mimetype": "text/x-python",
   "name": "python",
   "nbconvert_exporter": "python",
   "pygments_lexer": "ipython3",
   "version": "3.12.3"
  }
 },
 "nbformat": 4,
 "nbformat_minor": 5
}
